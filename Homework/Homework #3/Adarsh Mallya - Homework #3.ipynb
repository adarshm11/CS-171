{
 "cells": [
  {
   "cell_type": "markdown",
   "id": "08d1f293",
   "metadata": {},
   "source": [
    "# Homework #3"
   ]
  },
  {
   "cell_type": "markdown",
   "id": "ed47e266",
   "metadata": {},
   "source": [
    "Adarsh Mallya  \n",
    "10/03/2025"
   ]
  },
  {
   "cell_type": "markdown",
   "id": "0177e3de",
   "metadata": {},
   "source": [
    "I chose Option 1: Implementing a different loss function"
   ]
  },
  {
   "cell_type": "markdown",
   "id": "19a1911b",
   "metadata": {},
   "source": [
    "## Problem 3.1"
   ]
  },
  {
   "cell_type": "markdown",
   "id": "1f3ba51f",
   "metadata": {},
   "source": [
    "The loss function I decided to implement was the cross-entropy loss function, defined as:"
   ]
  },
  {
   "cell_type": "markdown",
   "id": "628a57e9",
   "metadata": {},
   "source": [
    "$$\n",
    "L = - \\sum_{i=1}^C [y_i log (\\hat{y}_i) + (1 - y_i) log(1 - \\hat{y}_i)]\n",
    "$$"
   ]
  },
  {
   "cell_type": "markdown",
   "id": "abd33530",
   "metadata": {},
   "source": [
    "Cross-entropy loss functions are typically used for classification problems, while mean squared error functions are usually used in linear regression problems. This might make the cross-entropy loss function a better fit for the MNIST classifier."
   ]
  },
  {
   "cell_type": "markdown",
   "id": "faca8e7e",
   "metadata": {},
   "source": [
    "## Problem 3.2"
   ]
  },
  {
   "cell_type": "markdown",
   "id": "47b65ff3",
   "metadata": {},
   "source": [
    "Calculating the gradient of the cross entropy loss function is a little different than the mean squared error function. Because the gradient needs to be computed with respect to each of the class predictions, we are trying to find $\\frac{\\partial{L}}{\\partial{z_i}}$."
   ]
  },
  {
   "cell_type": "markdown",
   "id": "21012f21",
   "metadata": {},
   "source": [
    "$$\n",
    "L = - \\sum_{i=1}^C [y_i log (\\hat{y}_i) + (1 - y_i) log(1 - \\hat{y}_i)]\n",
    "$$"
   ]
  },
  {
   "cell_type": "markdown",
   "id": "216bb4a5",
   "metadata": {},
   "source": [
    "First, find the derivative of the sigmoid activation function:"
   ]
  },
  {
   "cell_type": "markdown",
   "id": "8ca4842c",
   "metadata": {},
   "source": [
    "$$\n",
    "\\frac{d\\hat{y_i}}{dz_i} = \\hat{y_i}(1 - \\hat{y_i})\n",
    "$$"
   ]
  },
  {
   "cell_type": "markdown",
   "id": "9d5fd904",
   "metadata": {},
   "source": [
    "Now we differentiate the loss function with respect to $\\hat{y_i}$"
   ]
  },
  {
   "cell_type": "markdown",
   "id": "994609b2",
   "metadata": {},
   "source": [
    "$$\n",
    "\\frac{\\partial{L}}{\\partial{\\hat{y_i}}} = -\\frac{y_i}{\\hat{y_i}} + \\frac{1 - y_i}{1 - \\hat{y_i}}\n",
    "$$"
   ]
  },
  {
   "cell_type": "markdown",
   "id": "42033a4a",
   "metadata": {},
   "source": [
    "This means the value of our gradient is:"
   ]
  },
  {
   "cell_type": "markdown",
   "id": "dbecc723",
   "metadata": {},
   "source": [
    "$$\n",
    "\\frac{\\partial{L}}{\\partial{z_i}} = \\frac{\\partial{L}}{\\partial{\\hat{y_i}}} \\cdot \\frac{d\\hat{y_i}}{dz_i} = (-\\frac{y_i}{\\hat{y_i}} + \\frac{1 - y_i}{1 - \\hat{y_i}})(\\hat{y_i}(1 - \\hat{y_i})) = \\hat{y_i} - y_i\n",
    "$$"
   ]
  },
  {
   "cell_type": "markdown",
   "id": "cfb7ae4b",
   "metadata": {},
   "source": [
    "## Problem 3.3"
   ]
  },
  {
   "cell_type": "markdown",
   "id": "c085b20b",
   "metadata": {},
   "source": [
    "We need to modify the definition of our multilayer perceptron to use the cross entropy function as its loss function."
   ]
  },
  {
   "cell_type": "code",
   "execution_count": 1,
   "id": "0e644a34",
   "metadata": {},
   "outputs": [],
   "source": [
    "import os\n",
    "import numpy as np\n",
    "import matplotlib.pyplot as plt\n",
    "import struct\n",
    "import time\n",
    "\n",
    "import torch\n",
    "import torch.nn as nn\n",
    "import torch.nn.functional as F\n",
    "from torch.utils.data import DataLoader, TensorDataset"
   ]
  },
  {
   "cell_type": "code",
   "execution_count": 2,
   "id": "85de76d7",
   "metadata": {},
   "outputs": [
    {
     "name": "stdout",
     "output_type": "stream",
     "text": [
      "Using device: mps\n"
     ]
    }
   ],
   "source": [
    "if torch.cuda.is_available():\n",
    "    device_name = \"cuda\"\n",
    "elif torch.backends.mps.is_available():\n",
    "    device_name = \"mps\"\n",
    "else:\n",
    "    device_name = \"cpu\"\n",
    "print('Using device: '+device_name)\n",
    "device = torch.device(device_name)"
   ]
  },
  {
   "cell_type": "code",
   "execution_count": 3,
   "id": "a39585d6",
   "metadata": {},
   "outputs": [],
   "source": [
    "def read_mnist_images(data_directory, subset='train'):\n",
    "    if subset=='train':\n",
    "        prefix = 'train-'\n",
    "    else:\n",
    "        prefix = 't10k-'\n",
    "        \n",
    "    with open(os.path.join('MNIST',prefix+'images.idx3-ubyte'), 'rb') as f:\n",
    "        # unpack header\n",
    "        _, num_images, num_rows, num_cols = struct.unpack('>IIII', f.read(16))\n",
    "        \n",
    "        # read image data\n",
    "        image_data = f.read(num_images * num_rows * num_cols)\n",
    "        images = np.frombuffer(image_data, dtype=np.uint8)\n",
    "        images = images.reshape(num_images, num_rows, num_cols)\n",
    "\n",
    "    with open(os.path.join('MNIST',prefix+'labels.idx1-ubyte'), 'rb') as f:\n",
    "        # unpack header\n",
    "        _, num_labels = struct.unpack('>II', f.read(8))\n",
    "\n",
    "        # read label data\n",
    "        labels = np.frombuffer(f.read(), dtype=np.uint8)\n",
    "\n",
    "        \n",
    "    return images, labels"
   ]
  },
  {
   "cell_type": "code",
   "execution_count": 4,
   "id": "4b4980e5",
   "metadata": {},
   "outputs": [],
   "source": [
    "# load in the training and test images\n",
    "train_images, train_labels = read_mnist_images('MNIST','train')\n",
    "test_images, test_labels = read_mnist_images('MNIST','test')\n",
    "\n",
    "# reshape as before\n",
    "X_train = train_images.reshape(-1, 784) / 255.0\n",
    "X_test = test_images.reshape(-1, 784) / 255.0\n",
    "y_train = train_labels\n",
    "y_test = test_labels"
   ]
  },
  {
   "cell_type": "code",
   "execution_count": 5,
   "id": "0c81af72",
   "metadata": {},
   "outputs": [],
   "source": [
    "# create PyTorch tensor versions of the MNIST data\n",
    "X_train_tensor = torch.tensor(X_train).float()\n",
    "y_train_tensor = torch.tensor(y_train).float()\n",
    "X_test_tensor = torch.tensor(X_test).float()\n",
    "y_test_tensor = torch.tensor(y_test).float()"
   ]
  },
  {
   "cell_type": "code",
   "execution_count": 6,
   "id": "2fd1cb1b",
   "metadata": {},
   "outputs": [],
   "source": [
    "# create one-hot encoded training label tensors\n",
    "y_train_onehot = F.one_hot(y_train_tensor.to(torch.int64), num_classes=10).float()\n",
    "y_test_onehot = F.one_hot(y_test_tensor.to(torch.int64), num_classes=10).float()"
   ]
  },
  {
   "cell_type": "code",
   "execution_count": 10,
   "id": "54e8eda2",
   "metadata": {},
   "outputs": [],
   "source": [
    "# make a TensorDataset object for the training data\n",
    "ds_train = TensorDataset(X_train_tensor, y_train_onehot)\n",
    "\n",
    "# make a loader object for the training data\n",
    "train_loader = DataLoader(ds_train, batch_size=64, shuffle=True)"
   ]
  },
  {
   "cell_type": "code",
   "execution_count": 11,
   "id": "905fbab8",
   "metadata": {},
   "outputs": [],
   "source": [
    "# make a TensorDataset object for the test data\n",
    "ds_test = TensorDataset(X_test_tensor, y_test_onehot)\n",
    "\n",
    "# make a loader object for the test data\n",
    "test_loader = DataLoader(ds_test, batch_size=64, shuffle=False)\n"
   ]
  },
  {
   "cell_type": "code",
   "execution_count": 12,
   "id": "345d10bd",
   "metadata": {},
   "outputs": [],
   "source": [
    "# implement an MLP class here\n",
    "class MLP(nn.Module):\n",
    "\n",
    "    def __init__(self, in_dim=784, hidden_dim=50, out_dim=10):\n",
    "        super().__init__()\n",
    "        self.fc1 = nn.Linear(in_dim, hidden_dim)\n",
    "        self.fc2 = nn.Linear(hidden_dim, out_dim)\n",
    "\n",
    "    def forward(self, x):\n",
    "        h = torch.sigmoid(self.fc1(x))\n",
    "        out = torch.sigmoid(self.fc2(h))\n",
    "        return out"
   ]
  },
  {
   "cell_type": "code",
   "execution_count": 13,
   "id": "a60b3625",
   "metadata": {},
   "outputs": [],
   "source": [
    "# make an mlp object here\n",
    "mlp = MLP().to(device)"
   ]
  },
  {
   "cell_type": "code",
   "execution_count": 14,
   "id": "174cb3ef",
   "metadata": {},
   "outputs": [],
   "source": [
    "# define the criterion and optimizer\n",
    "criterion = nn.CrossEntropyLoss()\n",
    "optimizer = torch.optim.SGD(mlp.parameters(), lr=0.5)"
   ]
  },
  {
   "cell_type": "markdown",
   "id": "6baf6c77",
   "metadata": {},
   "source": [
    "## Problem 3.4"
   ]
  },
  {
   "cell_type": "markdown",
   "id": "080c451a",
   "metadata": {},
   "source": [
    "Now we need to train our re-defined MLP model on the dataset of MNIST images."
   ]
  },
  {
   "cell_type": "code",
   "execution_count": 15,
   "id": "45ca1b26",
   "metadata": {},
   "outputs": [
    {
     "name": "stdout",
     "output_type": "stream",
     "text": [
      "epoch 1: loss=1.8331, acc=0.745\n",
      "epoch 2: loss=1.6334, acc=0.873\n",
      "epoch 3: loss=1.5946, acc=0.895\n",
      "epoch 4: loss=1.5729, acc=0.909\n",
      "epoch 5: loss=1.5603, acc=0.915\n",
      "epoch 6: loss=1.5521, acc=0.920\n",
      "epoch 7: loss=1.5462, acc=0.923\n",
      "epoch 8: loss=1.5416, acc=0.926\n",
      "epoch 9: loss=1.5378, acc=0.929\n",
      "epoch 10: loss=1.5347, acc=0.931\n"
     ]
    }
   ],
   "source": [
    "# implement a training and testing loop here\n",
    "\n",
    "# make empty arrays to store the losses for each epoch\n",
    "train_losses = []\n",
    "train_accs = []\n",
    "test_losses = []\n",
    "test_accs = []\n",
    "\n",
    "# loop through each epoch\n",
    "for epoch in range(10):\n",
    "\n",
    "    #- Testing Block --------------------------------\n",
    "    mlp.train()\n",
    "    total_loss, correct, total = 0, 0, 0\n",
    "\n",
    "    # loop through mini-batches in the data loader\n",
    "    for x, y in train_loader:\n",
    "        x, y = x.to(device), y.to(device)\n",
    "\n",
    "        # forward\n",
    "        p = mlp(x)\n",
    "        \n",
    "        # backward\n",
    "        loss = criterion(p, y)\n",
    "        optimizer.zero_grad()\n",
    "        loss.backward()\n",
    "        optimizer.step()\n",
    "\n",
    "        # compute the total loss\n",
    "        total_loss += loss.item() * x.size(0)\n",
    "        # predictions (argmax across 10 classes)\n",
    "        pred = p.argmax(dim=1)\n",
    "        true = y.argmax(dim=1)\n",
    "        correct += (pred == true).sum().item() \n",
    "        total += x.size(0)\n",
    "        \n",
    "    train_loss = total_loss/total\n",
    "    train_acc = correct/total\n",
    "    train_losses.append(train_loss)\n",
    "    train_accs.append(train_acc)\n",
    "    print(f\"epoch {epoch+1}: loss={total_loss/total:.4f}, acc={correct/total:.3f}\")\n",
    "    # ---- Evaluation (Testing/Validation) ----\n",
    "    mlp.eval()\n",
    "    total_loss, correct, total = 0, 0, 0\n",
    "    with torch.no_grad():\n",
    "        for x, y in test_loader:\n",
    "            x, y = x.to(device), y.to(device)\n",
    "            p = mlp(x)\n",
    "            loss = criterion(p, y)\n",
    "            total_loss += loss.item() * x.size(0)\n",
    "            pred = p.argmax(dim=1)\n",
    "            true = y.argmax(dim=1)\n",
    "            correct += (pred == true).sum().item() \n",
    "            total += x.size(0)\n",
    "    test_loss = total_loss/total\n",
    "    test_acc = correct/total\n",
    "    test_losses.append(test_loss)\n",
    "    test_accs.append(test_acc)"
   ]
  },
  {
   "cell_type": "markdown",
   "id": "a804159c",
   "metadata": {},
   "source": [
    "## Problem 3.5"
   ]
  },
  {
   "cell_type": "markdown",
   "id": "dace2aec",
   "metadata": {},
   "source": [
    "Let's visualize the model performance for the model with this new loss function."
   ]
  },
  {
   "cell_type": "code",
   "execution_count": 16,
   "id": "17f7efcc",
   "metadata": {},
   "outputs": [
    {
     "data": {
      "image/png": "[encoded data removed]",
      "text/plain": [
       "<Figure size 1000x500 with 2 Axes>"
      ]
     },
     "metadata": {},
     "output_type": "display_data"
    }
   ],
   "source": [
    "# plot the losses and accuracies\n",
    "plt.figure(figsize=(10,5))\n",
    "\n",
    "plt.subplot(1,2,1)\n",
    "plt.plot(train_losses,label='Train')\n",
    "plt.plot(test_losses,label='Test')\n",
    "plt.ylabel('Loss')\n",
    "plt.xlabel('Iterations')\n",
    "plt.legend()\n",
    "\n",
    "plt.subplot(1,2,2)\n",
    "plt.plot(train_accs,label='Train')\n",
    "plt.plot(test_accs,label='Test')\n",
    "plt.legend()\n",
    "plt.ylabel('Accuracy')\n",
    "plt.ylim([0,1])\n",
    "plt.xlabel('Iterations')\n",
    "plt.show()"
   ]
  },
  {
   "cell_type": "markdown",
   "id": "cbc0b6aa",
   "metadata": {},
   "source": [
    "As a reminder, here's what the model performance was with MSE as the loss function:"
   ]
  },
  {
   "attachments": {
    "image.png": {
     "image/png": "[encoded data removed]"
    }
   },
   "cell_type": "markdown",
   "id": "fdeb839f",
   "metadata": {},
   "source": [
    "![image.png](attachment:image.png)"
   ]
  },
  {
   "cell_type": "markdown",
   "id": "2521a678",
   "metadata": {},
   "source": [
    "The accuracy peaked at a higher spot on the cross entropy loss model than the MSE model, as seen in the graph. I thought it was curious how the loss value for the cross entropy loss model was above 1, which must have to do with some sort of data standardization that should have been done before the loss function was changed. It appears that the cross entropy loss function might be more appropriate for this kind of classification task, where there are more than two classes that can be classified."
   ]
  }
 ],
 "metadata": {
  "kernelspec": {
   "display_name": "CS171",
   "language": "python",
   "name": "python3"
  },
  "language_info": {
   "codemirror_mode": {
    "name": "ipython",
    "version": 3
   },
   "file_extension": ".py",
   "mimetype": "text/x-python",
   "name": "python",
   "nbconvert_exporter": "python",
   "pygments_lexer": "ipython3",
   "version": "3.12.9"
  }
 },
 "nbformat": 4,
 "nbformat_minor": 5
}
