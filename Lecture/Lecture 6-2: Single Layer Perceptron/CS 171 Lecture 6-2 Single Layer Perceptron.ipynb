{
 "cells": [
  {
   "cell_type": "markdown",
   "id": "aa78574b-d9db-4449-b800-0aa9b1460993",
   "metadata": {},
   "source": [
    "# The Single Layer Perceptron\n",
    "In this notebook, we revisit our perceptron model from Lecture 3-2 and apply it to a multi-class problem. This will give us a framework to explore more complex models down the road.\n",
    "\n",
    "**Learning Objectives**\n",
    "\n",
    "1. Implement a perceptron for multi-class classifications of multidimensional data.\n",
    "2. Compute the gradient of a multi-dimensional loss function for use in a perceptron.\n",
    "3. Implement a single layer perceptron in Python class.\n",
    "\n",
    "**Import modules**\n",
    "\n",
    "Begin by importing the modules to be used in this notebook."
   ]
  },
  {
   "cell_type": "code",
   "execution_count": 1,
   "id": "8dc5b778-fdba-4ce4-b322-aa326262b7c8",
   "metadata": {},
   "outputs": [],
   "source": [
    "import os\n",
    "import numpy as np\n",
    "import matplotlib.pyplot as plt\n",
    "import pandas as pd\n",
    "import struct"
   ]
  },
  {
   "cell_type": "markdown",
   "id": "694f34d2-a5e2-45aa-a931-3aff21a69290",
   "metadata": {},
   "source": [
    "## The MNIST Dataset\n",
    "In this notebook, we will examine a dataset of handwritten digits from the Modified National Institute of Standards and Technology (MNIST) dataset. The MNIST Dataset is like the \"Hello World\" of neural network data.\n",
    "\n",
    "Let's create a quick function to read in the images and the labels in either the testing or the training data:"
   ]
  },
  {
   "cell_type": "code",
   "execution_count": 2,
   "id": "f4721c37",
   "metadata": {},
   "outputs": [],
   "source": [
    "def read_mnist_images(subset='train'):\n",
    "    if subset=='train':\n",
    "        prefix = 'train-'\n",
    "    else:\n",
    "        prefix = 't10k-'\n",
    "        \n",
    "    with open(os.path.join('MNIST',prefix+'images.idx3-ubyte'), 'rb') as f:\n",
    "        # unpack header\n",
    "        _, num_images, num_rows, num_cols = struct.unpack('>IIII', f.read(16))\n",
    "        \n",
    "        # read image data\n",
    "        image_data = f.read(num_images * num_rows * num_cols)\n",
    "        images = np.frombuffer(image_data, dtype=np.uint8)\n",
    "        images = images.reshape(num_images, num_rows, num_cols)\n",
    "\n",
    "    with open(os.path.join('MNIST',prefix+'labels.idx1-ubyte'), 'rb') as f:\n",
    "        # unpack header\n",
    "        _, num_labels = struct.unpack('>II', f.read(8))\n",
    "\n",
    "        # read label data\n",
    "        labels = np.frombuffer(f.read(), dtype=np.uint8)\n",
    "\n",
    "        \n",
    "    return images, labels"
   ]
  },
  {
   "cell_type": "markdown",
   "id": "7595de75-c811-4549-a039-6a4c60658a88",
   "metadata": {},
   "source": [
    "We can use this function as follows:"
   ]
  },
  {
   "cell_type": "code",
   "execution_count": 3,
   "id": "5bd958e5",
   "metadata": {},
   "outputs": [
    {
     "name": "stdout",
     "output_type": "stream",
     "text": [
      "Training Image Set Size:  (60000, 28, 28)\n",
      "Training Label Set Size:  (60000,)\n",
      "Testing Image Set Size:  (10000, 28, 28)\n",
      "Testing Label Set Size:  (10000,)\n"
     ]
    }
   ],
   "source": [
    "# load in the training and test images\n",
    "train_images, train_labels = read_mnist_images(subset='train')\n",
    "test_images, test_labels = read_mnist_images(subset='test')\n",
    "\n",
    "# print the sizes\n",
    "print('Training Image Set Size: ', np.shape(train_images))\n",
    "print('Training Label Set Size: ', np.shape(train_labels))\n",
    "print('Testing Image Set Size: ', np.shape(test_images))\n",
    "print('Testing Label Set Size: ', np.shape(test_labels))\n"
   ]
  },
  {
   "cell_type": "markdown",
   "id": "78f0313e-95ae-42de-bc3c-da46c3b50e3e",
   "metadata": {},
   "source": [
    "Let's take a look at what one of these images looks like:"
   ]
  },
  {
   "cell_type": "code",
   "execution_count": 4,
   "id": "fe5d62f1",
   "metadata": {},
   "outputs": [
    {
     "data": {
      "image/png": "[encoded data removed]",
      "text/plain": [
       "<Figure size 640x480 with 1 Axes>"
      ]
     },
     "metadata": {},
     "output_type": "display_data"
    }
   ],
   "source": [
    "# make a plot here\n",
    "plt.figure()\n",
    "plt.imshow(train_images[1000, :, :], cmap='Greys')\n",
    "plt.title(str(train_labels[1000]))\n",
    "plt.show()"
   ]
  },
  {
   "cell_type": "markdown",
   "id": "e97113a7",
   "metadata": {},
   "source": [
    "As we can see, each image is a 28 pixel x 28 pixel image of a hand-written digit."
   ]
  },
  {
   "cell_type": "markdown",
   "id": "a67b7357-a614-47b9-acca-c267704c4e7f",
   "metadata": {},
   "source": [
    "## The Single-Layer Perception\n",
    "\n",
    "In our previous lessons on classification, we came across the Perceptron. Here, we will revisit this approach to build a model to classify the images. "
   ]
  },
  {
   "cell_type": "markdown",
   "id": "456b1995-0378-49e3-9479-c4a9fe8d676a",
   "metadata": {},
   "source": [
    "### One-Hot Encoding\n",
    "In our previous example of a Perceptron, we used a single vector to represent our target classifications (0 for no, 1 for yes). Here, we are going to employ a slightly different encoding called a one-hot encoding. This will be a set of vectors - one for each class - that identify if the image corresponds to that class.\n",
    "\n",
    "Let's see that works for the first several of our training examples:"
   ]
  },
  {
   "cell_type": "code",
   "execution_count": 5,
   "id": "cc395c95-85c4-4988-aecd-ad2b82647325",
   "metadata": {},
   "outputs": [
    {
     "name": "stdout",
     "output_type": "stream",
     "text": [
      "First 5 labels:\n",
      "[5 0 4 1 9]\n",
      "\n",
      "First 5 encodings:\n",
      "[[0 0 0 0 0 1 0 0 0 0]\n",
      " [1 0 0 0 0 0 0 0 0 0]\n",
      " [0 0 0 0 1 0 0 0 0 0]\n",
      " [0 1 0 0 0 0 0 0 0 0]\n",
      " [0 0 0 0 0 0 0 0 0 1]]\n"
     ]
    }
   ],
   "source": [
    "# compute the one-hot encoding\n",
    "one_hot = np.zeros((train_labels.shape[0], 10)).astype(int)\n",
    "for i, val in enumerate(train_labels):\n",
    "    one_hot[i, val] = 1\n",
    "\n",
    "# print the one-hot encoding of the first 5 labels    \n",
    "print('First 5 labels:')\n",
    "print(train_labels[:5])\n",
    "\n",
    "print('\\nFirst 5 encodings:')\n",
    "print(one_hot[:5,:])"
   ]
  },
  {
   "cell_type": "markdown",
   "id": "cd32222f-8ff9-4a0f-8a16-2333db517fec",
   "metadata": {},
   "source": [
    "As we can see, the one-hot encoding has a value of 1 corresponding the index of the label 0-9. For example, when the label is 5, all values are 0 except for the value at index 5."
   ]
  },
  {
   "cell_type": "markdown",
   "id": "8d366772-72a4-4703-8cf1-921ebdc851d1",
   "metadata": {},
   "source": [
    "### The Forward Model"
   ]
  },
  {
   "cell_type": "markdown",
   "id": "a0336b3d-86f5-4e19-82fb-8cef756cc706",
   "metadata": {},
   "source": [
    "In this model formulation, we will create our model to read in an \"unraveled\" image (or a set of them). That is, instead of reading in images sized 28x28, we will reshape them so that the image sizes are one vector of length 784 (= 28*28). Further, we will normalize the pixel values so that they are in the range 0-1 (rather than 0-255 by default)."
   ]
  },
  {
   "cell_type": "code",
   "execution_count": 6,
   "id": "7dd3b7e8-f158-4db5-a84e-37baf44e77d9",
   "metadata": {},
   "outputs": [
    {
     "name": "stdout",
     "output_type": "stream",
     "text": [
      "Training Image Set Size:  (60000, 784)\n",
      "Validation Image Set Size:  (10000, 784)\n",
      "Training Label Set Size:  (60000,)\n",
      "Validation Label Set Size:  (10000,)\n"
     ]
    }
   ],
   "source": [
    "# reshape the images to be vectors and normalize the pixel values\n",
    "X_train = train_images.reshape(-1, 784) / 255.0\n",
    "X_test = test_images.reshape(-1, 784) / 255.0\n",
    "Y_train = train_labels\n",
    "Y_test = test_labels\n",
    "\n",
    "# print the sizes of the training and validation sets\n",
    "print('Training Image Set Size: ',np.shape(X_train))\n",
    "print('Validation Image Set Size: ',np.shape(X_test))\n",
    "print('Training Label Set Size: ',np.shape(Y_train))\n",
    "print('Validation Label Set Size: ',np.shape(Y_test))"
   ]
  },
  {
   "cell_type": "markdown",
   "id": "393d4783-34f4-40bd-9d77-6ae439db8068",
   "metadata": {},
   "source": [
    "Each individual pixel - 784 in total - will be assigned its own individual weight in the network which will be combined in a linear combination along with a bias unit yielding a total of 10 model labels. After these values are determined, the linear combination will be passed to a sigmoid activation function as we saw in our lesson on Logistic Regression to rescale the model output. The following diagram depicts the forward model:"
   ]
  },
  {
   "cell_type": "markdown",
   "id": "af4c7c0e-e78b-4065-adc8-962cfc8543e1",
   "metadata": {},
   "source": [
    "$$\n",
    "\\begin{align*}\n",
    "z &= Xw^T+b \\\\ \n",
    "p &= \\sigma(z)\n",
    "\\end{align*}\n",
    "$$"
   ]
  },
  {
   "cell_type": "markdown",
   "id": "7ece015e-9b71-44f1-a385-0b02b37413d4",
   "metadata": {},
   "source": [
    "<img src=\"Singlelayer_Perceptron.png\" alt=\"Schematic of a single layer perceptron\" width=\"800\">"
   ]
  },
  {
   "cell_type": "markdown",
   "id": "02607376-6b1a-401c-9e89-2de794d0e410",
   "metadata": {},
   "source": [
    "Here, recall that the sigmoid activation function, applied to $z$ is:\n",
    "\n",
    "$$\n",
    "\\sigma(z) = \\frac{1}{1+e^{-z}}\n",
    "$$\n",
    "\n",
    "In the implementation here, it is important to note the sizes of each matrix in terms of the rows and columns:\n",
    "\n",
    "- X: (N, I)\n",
    "- w: (C, I)\n",
    "- z: (N, C)\n",
    "- p: (N, C)\n",
    "\n",
    "In the schematic above, N=2, C=4, and I=2. In the MNIST image example, N=60000, C=10, and I=784.\n",
    "\n",
    "Note that there is also a bias vector (one value for each class) that will applied in the linear combination."
   ]
  },
  {
   "cell_type": "markdown",
   "id": "3aef2c3f-27f5-4924-9da8-60f61a325f4e",
   "metadata": {},
   "source": [
    "### A Note on Neurons\n",
    "The diagram above is an example of an *artificial neuron* for its relation to how neurons in our human brains operate. Neurons in the brain receive electrical signals (err.. computations) from the nervous system. Based on the character of these signals, a neuron will either \"fire\" or not - that is, it will either pass on information or it won't. The simple perceptron model replicates this procedure. A set of input data (one row of the image) is passed to the neuron (via a linear combination of weights and the bias) and the activation function determine how the information is passed (in the form of a probability). The output of this neuron is then provided to make a simple decision (not shown above). In this case, the classification will depend on the highest probability value. However, in other applications, the output of the neuron may be passed to other neurons. In this sense, we can build a \"neural network\" which is composed of a series of perceptron-like models that allow highly non-linear decision making. We'll see an example of this in the notebooks to come. For now, let's take a look at optimizing the weights of our perceptron here. "
   ]
  },
  {
   "cell_type": "markdown",
   "id": "1782ff52-1248-4740-b0f5-b87c0e59d81c",
   "metadata": {},
   "source": [
    "### The Loss Function\n",
    "To compute the optimal weights for our model, we'll need to define a loss function. Here, we will use the mean square error loss function:\n",
    "\n",
    "$$\n",
    "L = \\frac{1}{NC} \\sum_{n=1}^N \\sum_{c=1}^C (y_{n,c}-p_{n,c})^2\n",
    "$$\n",
    "\n",
    "Here, the loss is computed across all of the $N$ images (60,000 in this case) and all of the $C$ classes (10 in this case).\n",
    "\n",
    "#### The Derivative of the Loss Function\n",
    "To use the gradient descent algorithm, we first need to compute the derivatives of the loss function with respect to the weights. Each of our image pixels has a collection of 10 individual weights - one for each of the classifications. This means we will have a 2D matrix of weights, sized (10, 784) in this case).\n",
    "\n",
    "As we see above, $L$ is a function of $p_{n,c}$ (the probability that the nth image belongs to class $c$) which in turn is a function of the $z_{n,c}$ (the linear model estimate of the nth image for class $c$), which is in turn a function of the weights and the biases. The chain rule provides a way to compute these weights. "
   ]
  },
  {
   "cell_type": "markdown",
   "id": "9d048dd4-2f17-4d2f-98af-267f74459525",
   "metadata": {},
   "source": [
    "##### A small example\n",
    "Before deriving the full gradient of the loss function, I find it easiest to consider a smaller example with the shapes shown in the schematic above. Writing out the loss explicitly, we have\n",
    "\n",
    "$$\n",
    "\\begin{align*}\n",
    "L = \\frac{1}{8} [ &(y_{1,1} - p_{1,1})^2 + (y_{1,2} - p_{1,2})^2 + (y_{1,3} - p_{1,3})^2 + (y_{1,4} - p_{1,4})^2 \\\\ &(y_{2,1} - p_{2,1})^2 + (y_{2,2} - p_{2,2})^2 + (y_{2,3} - p_{2,3})^2 + (y_{2,4} - p_{2,4})^2]\n",
    "\\end{align*}\n",
    "$$\n",
    "\n",
    "Now, considering computing the gradient with respect to a given weight - say $w_{2,3}$  - which is applied to the third index to compute the probability the image belongs to the second class. Looking at the diagram above, we see that that the only $p_{1,2}$ and $p_{2,2}$ depend on this weight, so the gradient becomes\n",
    "\n",
    "$$\n",
    "\\begin{align*}\n",
    "\\dfrac{\\partial L}{\\partial w_{2,3}} &= \\frac{-2}{8} \\left[  (y_{1,2} - p_{1,2}) \\frac{\\partial p_{1,2}}{\\partial z_{1,2}} \\frac{\\partial z_{1,2}}{\\partial w_{2,3}} + (y_{2,2} - p_{2,2}) \\frac{\\partial p_{2,2}}{\\partial z_{2,2}} \\frac{\\partial z_{2,2}}{\\partial w_{2,3}} \\right] \\\\\n",
    "&= \\frac{-2}{8} \\left[  (y_{1,2} - p_{1,2}) p_{1,2}(1-p_{1,2})x_{1,3}  + (y_{2,2} - p_{2,2})  p_{2,2}(1-p_{2,2})x_{2,3} \\right]\n",
    "\\end{align*}\n",
    "$$\n",
    "\n",
    "Note that we are using the following formula derived in Lecture 4-1:\n",
    "\n",
    "$$\n",
    "\\dfrac{\\partial p_{n,c}}{\\partial z_{n,c}} = p_{n,c}(1-p_{n,c})\n",
    "$$\n",
    "\n",
    "If we define \n",
    "$$\n",
    "\\mathcal{D}_{n,c} = -2(y_{n,c} - p_{n,c}) p_{n,c}(1-p_{n,c})\n",
    "$$\n",
    "\n",
    "Then we can write this as \n",
    "$$\n",
    "\\dfrac{\\partial L}{\\partial w_{2,3}} = \\frac{1}{8} \\sum_{n=1}^2 \\mathcal{D}_{n,2} x_{n,3}\n",
    "$$\n",
    "\n",
    "Generalizing to each of the individual weights, we have\n",
    "\n",
    "$$\n",
    "\\dfrac{\\partial L}{\\partial \\textbf{w}} = \\frac{1}{8}\\begin{bmatrix}\n",
    "\\sum_{n=1}^2 \\mathcal{D}_{n,1} x_{n,1} & \\sum_{n=1}^2 \\mathcal{D}_{n,1} x_{n,2} & \\sum_{n=1}^2 \\mathcal{D}_{n,1} x_{n,3} \\\\\n",
    "\\sum_{n=1}^2 \\mathcal{D}_{n,2} x_{n,1} & \\sum_{n=1}^2 \\mathcal{D}_{n,2} x_{n,2} & \\sum_{n=1}^2 \\mathcal{D}_{n,2} x_{n,3} \\\\\n",
    "\\sum_{n=1}^2 \\mathcal{D}_{n,3} x_{n,1} & \\sum_{n=1}^2 \\mathcal{D}_{n,3} x_{n,2} & \\sum_{n=1}^2 \\mathcal{D}_{n,3} x_{n,3} \\\\\n",
    "\\sum_{n=1}^2 \\mathcal{D}_{n,4} x_{n,1} & \\sum_{n=1}^2 \\mathcal{D}_{n,4} x_{n,2} & \\sum_{n=1}^2 \\mathcal{D}_{n,4} x_{n,3} \n",
    "\\end{bmatrix} \n",
    "$$\n",
    "\n",
    "In one more rearrangement, we can write the above matrix as a multiplication of the following:\n",
    "$$\n",
    "\\dfrac{\\partial L}{\\partial \\textbf{w}} = \\begin{bmatrix} \\mathcal{D}_{1,1} & \\mathcal{D}_{2,1} \\\\ \n",
    "\\mathcal{D}_{1,2} & \\mathcal{D}_{2,2} \\\\\n",
    "\\mathcal{D}_{1,3} & \\mathcal{D}_{2,3} \\\\\n",
    "\\mathcal{D}_{1,4} & \\mathcal{D}_{2,4} \\end{bmatrix} \\begin{bmatrix} x_{1,1} & x_{1,2} & x_{1,3} \\\\ \n",
    "x_{2,1} & x_{2,2} & x_{2,3}  \\end{bmatrix} = \\mathcal{D}^T \\textbf{X}\n",
    "$$\n",
    "\n"
   ]
  },
  {
   "cell_type": "markdown",
   "id": "68698487-d138-45b7-b831-63434ab88ec6",
   "metadata": {},
   "source": [
    "##### Generalizing to an arbitrary size\n",
    "\n",
    "Using the above framework, we can generalize to an arbitrary number of images $N$, classes $C$ and image length $I$."
   ]
  },
  {
   "cell_type": "markdown",
   "id": "569273d1-009f-48f7-b78b-56a2cc95b1dc",
   "metadata": {},
   "source": [
    "Consider a weight $w_{c,i}$ corresponding to class $c$ and pixel $i$. We can express the derivative of the loss function for an individual weight as:\n",
    "\n",
    "$$\n",
    "\\dfrac{\\partial L}{\\partial w_{c,i}}  = \\frac{-1}{N} \\sum_{n=1}^N 2(y_{n,c}-p_{n,c}) p_{n,c}(1-p_{n,c}) x_{n,i}\n",
    "$$\n",
    "\n",
    "Here, for simplicity, I will drop the $C$ as it can be ingested as a scalar multiple in the learning rate."
   ]
  },
  {
   "cell_type": "markdown",
   "id": "c3702051-71c0-4923-8a8f-19c0a6958f0f",
   "metadata": {},
   "source": [
    "Written out in complete matrix form we can express the full gradient following the structure above:\n",
    "\n",
    "$$\n",
    "\\begin{align*}\n",
    "\\dfrac{\\partial L}{\\partial \\textbf{w}} &= \\frac{-2}{N} \\begin{bmatrix} (y_{1,1}-p_{1,1}) p_{1,1}(1-p_{1,1}) & \\cdots & (y_{N,1}-p_{N,1}) p_{N,1}(1-p_{N,1}) \\\\ & \\ddots & \\\\  (y_{1,C}-p_{1,C}) p_{1,C}(1-p_{1,C}) & \\cdots & (y_{N,C}-p_{N,C}) p_{N,C}(1-p_{N,C})\\end{bmatrix} \\begin{bmatrix} x_{1,1} & \\cdots & x_{1,I} \\\\ & \\ddots & \\\\ x_{N,1} & \\cdots & x_{N,I}\\end{bmatrix} \\\\  &= \\mathcal{D}^T \\textbf{X}\n",
    "\\end{align*}\n",
    "$$"
   ]
  },
  {
   "cell_type": "markdown",
   "id": "22276e46-ab24-49ee-ab7b-9faa30157026",
   "metadata": {},
   "source": [
    "where, again for clarity, here we have defined the following matrix:\n",
    "$$\n",
    "\\mathcal{D} = \\frac{-2}{N} \\begin{bmatrix} (y_{1,1}-p_{1,1}) p_{1,1}(1-p_{1,1}) & \\cdots & (y_{1,C}-p_{1,C}) p_{1,C}(1-p_{1,C}) \\\\ & \\ddots & \\\\   (y_{N,1}-p_{N,1}) p_{N,1}(1-p_{N,1}) & \\cdots & (y_{N,C}-p_{N,C}) p_{N,C}(1-p_{N,C})\\end{bmatrix}\n",
    "$$\n",
    "\n",
    "In a similar sense, we can write the derivative of the loss function with respect to $\\textbf{b}$ as \n",
    "\n",
    "$$\n",
    "\\begin{align*}\n",
    "\\dfrac{\\partial L}{\\partial \\textbf{b}} &= \\frac{-2}{N} \\begin{bmatrix} (y_{1,1}-p_{1,1}) p_{1,1}(1-p_{1,1}) & \\cdots & (y_{N,1}-p_{N,1}) p_{N,1}(1-p_{N,1}) \\\\ & \\ddots & \\\\  (y_{1,C}-p_{1,C}) p_{1,C}(1-p_{1,C}) & \\cdots & (y_{N,C}-p_{N,C}) p_{N,C}(1-p_{N,C})\\end{bmatrix} \\begin{bmatrix} 1 \\\\ \\vdots \\\\ 1 \\end{bmatrix} \\\\  &= \\mathcal{D}^T \\textbf{1}\n",
    "\\end{align*}\n",
    "$$"
   ]
  },
  {
   "cell_type": "markdown",
   "id": "bb0a8db3-dfda-4154-9159-8c898756f33b",
   "metadata": {},
   "source": [
    "## Coding Up a Solution\n",
    "Now that we know how to compute our gradients, let's write some code to create our model!"
   ]
  },
  {
   "cell_type": "code",
   "execution_count": 7,
   "id": "a03ce7a5-4ecc-48ef-b96e-4154a28fee65",
   "metadata": {},
   "outputs": [],
   "source": [
    "class SingleLayerPerceptron:\n",
    "\n",
    "    def __init__(self, num_features, num_classes, random_seed=123):\n",
    "        self.num_classes = num_classes\n",
    "        generator = np.random.RandomState(random_seed)\n",
    "        self.weight_out = generator.normal(loc=0.0, scale=0.1, size=(num_classes, num_features))\n",
    "        self.bias_out = np.zeros(num_classes)\n",
    "\n",
    "    def int_to_onehot(self, y, num_labels):\n",
    "        ary = np.zeros((y.shape[0], num_labels))\n",
    "        for i, val in enumerate(y):\n",
    "            ary[i, val] = 1\n",
    "        return(ary)\n",
    "\n",
    "    def sigmoid(self,z):\n",
    "        return (1/(1+np.exp(-z)))\n",
    "\n",
    "    # EDIT: define the forward function\n",
    "    def forward(self, X):\n",
    "        z = np.dot(X, self.weight_out.T) + self.bias_out\n",
    "        p = self.sigmoid(z)\n",
    "        return p\n",
    "\n",
    "    def predict(self, X):\n",
    "        probs = self.forward(X)\n",
    "        return np.argmax(probs, axis=1)\n",
    "\n",
    "    # EDIT: define the backward function\n",
    "    def backward(self, X, y, p):\n",
    "        y_onehot = self.int_to_onehot(y, self.num_classes)\n",
    "        d_L__d_p = -2 * (y_onehot - p) / y.shape[0]\n",
    "        d_P__d_z = p * (1 - p)\n",
    "        D = d_L__d_p * d_P__d_z\n",
    "        d_L__d_w = np.dot(D.T, X)\n",
    "        d_L__d_b = np.dot(D.T, np.ones((X.shape[0])))\n",
    "        return d_L__d_w, d_L__d_b\n",
    "\n",
    "    def mse_loss(targets, probs, num_labels=10):\n",
    "        onehot_targets = self.int_to_onehot(targets, num_labels)\n",
    "        err = np.mean((onehot_targets - probs)**2)\n",
    "        return(err)\n",
    "\n",
    "    def compute_mse_and_acc(self, X, y, num_labels=10):\n",
    "        probs = self.forward(X)\n",
    "        predicted_labels = np.argmax(probs,axis=1)\n",
    "        onehot_targets =self.int_to_onehot(y, num_labels)\n",
    "        loss = np.mean((onehot_targets - probs)**2)\n",
    "        acc = np.sum(predicted_labels == y)/len(y)\n",
    "        return(loss, acc)\n",
    "\n",
    "    def train(self,X_train, Y_train, X_test, Y_test, num_epochs, learning_rate=0.1):\n",
    "        train_losses = []\n",
    "        test_losses = []\n",
    "        train_accs = []\n",
    "        test_accs = []\n",
    "        for _ in range(num_epochs):\n",
    "            a_out = self.forward(X_train)\n",
    "\n",
    "            # EDIT: comput the gradients and update the weights and biases\n",
    "            d_L__d_w, d_L__d_b = self.backward(X_train, Y_train, a_out)\n",
    "            self.weight_out -= learning_rate * d_L__d_w\n",
    "            self.bias_out -= learning_rate * d_L__d_b\n",
    "\n",
    "            train_loss, train_acc = self.compute_mse_and_acc(X_train, Y_train)\n",
    "            train_losses.append(train_loss)\n",
    "            train_accs.append(train_acc)\n",
    "\n",
    "            test_loss, test_acc = self.compute_mse_and_acc(X_test, Y_test)\n",
    "            test_losses.append(test_loss)\n",
    "            test_accs.append(test_acc)\n",
    "        return train_losses, train_accs, test_losses, test_accs"
   ]
  },
  {
   "cell_type": "markdown",
   "id": "70f03a04-e545-41ea-8909-4957fbc7afb7",
   "metadata": {},
   "source": [
    "### Using the Perceptron Model\n",
    "Now that we've got the model coded up, let's train it and use it to classify the images. First, let's train the model."
   ]
  },
  {
   "cell_type": "code",
   "execution_count": 11,
   "id": "ed60dd85-0e02-42b8-935c-4f84d24ed4a8",
   "metadata": {},
   "outputs": [],
   "source": [
    "# implement and train the model\n",
    "slp = SingleLayerPerceptron(num_features=784, num_classes=10)\n",
    "train_losses, train_accs, test_losses, test_accs = slp.train(X_train, Y_train, X_test, Y_test, num_epochs=1000, learning_rate=0.5)"
   ]
  },
  {
   "cell_type": "markdown",
   "id": "095bd5bb-b983-4185-84c5-c64b89530c50",
   "metadata": {},
   "source": [
    "As always, we should take a look at the loss functions through the training process:"
   ]
  },
  {
   "cell_type": "code",
   "execution_count": 14,
   "id": "c35899fc-441c-4505-830a-bee44865a0a6",
   "metadata": {},
   "outputs": [
    {
     "data": {
      "image/png": "[encoded data removed]",
      "text/plain": [
       "<Figure size 1200x500 with 2 Axes>"
      ]
     },
     "metadata": {},
     "output_type": "display_data"
    }
   ],
   "source": [
    "# plot the losses and accuracies\n",
    "plt.figure(figsize=(12, 5))\n",
    "\n",
    "plt.subplot(1, 2, 1)\n",
    "plt.plot(train_losses, label='Train')\n",
    "plt.plot(test_losses, label='Test')\n",
    "plt.ylabel('Loss')\n",
    "plt.xlabel('Epochs')\n",
    "plt.legend()\n",
    "\n",
    "plt.subplot(1, 2, 2)\n",
    "plt.plot(train_accs)\n",
    "plt.plot(test_accs)\n",
    "plt.ylabel('Loss')\n",
    "plt.xlabel('Epochs')\n",
    "plt.show()\n"
   ]
  },
  {
   "cell_type": "markdown",
   "id": "b6647d0b-3fe4-409b-b5e7-057d394db6c6",
   "metadata": {},
   "source": [
    "With more than 1000 iterations and a learning rate of 0.5, our model has now started to converge.\n",
    "\n",
    "Let's see how it has works on a collection of random images:"
   ]
  },
  {
   "cell_type": "code",
   "execution_count": 13,
   "id": "41a71d7b-f063-4b8e-a6e1-843a6faf51e9",
   "metadata": {},
   "outputs": [
    {
     "data": {
      "image/png": "[encoded data removed]",
      "text/plain": [
       "<Figure size 640x480 with 10 Axes>"
      ]
     },
     "metadata": {},
     "output_type": "display_data"
    }
   ],
   "source": [
    "# choose a set of indices \n",
    "np.random.seed(37)\n",
    "test_indices = np.random.randint(low=0, high=10000, size=10)\n",
    "\n",
    "# make a plot of the predictions\n",
    "\n",
    "for d, index in enumerate(test_indices):\n",
    "\n",
    "    plt.subplot(2, 5, d+1)\n",
    "    plt.imshow(train_images[index, :, :], cmap='Greys')\n",
    "    image_prediction = slp.predict(train_images[index, :, :].reshape((1, 784)) / 255.0)\n",
    "    plt.title(str(image_prediction))\n",
    "\n",
    "plt.show()"
   ]
  },
  {
   "cell_type": "markdown",
   "id": "1f2c334d-6320-4f02-97c4-bc1b6c096142",
   "metadata": {},
   "source": [
    "Not bad! But can we do better? Let's see in the next notebook!"
   ]
  }
 ],
 "metadata": {
  "kernelspec": {
   "display_name": "CS171",
   "language": "python",
   "name": "python3"
  },
  "language_info": {
   "codemirror_mode": {
    "name": "ipython",
    "version": 3
   },
   "file_extension": ".py",
   "mimetype": "text/x-python",
   "name": "python",
   "nbconvert_exporter": "python",
   "pygments_lexer": "ipython3",
   "version": "3.12.9"
  }
 },
 "nbformat": 4,
 "nbformat_minor": 5
}
