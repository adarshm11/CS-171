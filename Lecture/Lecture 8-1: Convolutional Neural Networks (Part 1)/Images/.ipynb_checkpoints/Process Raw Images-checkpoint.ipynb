{
 "cells": [
  {
   "cell_type": "markdown",
   "id": "069a673b-75b4-4ae0-8ebb-e13bb3bf0595",
   "metadata": {},
   "source": [
    "# Notebook to Process Raw Images for Homework 5\n",
    "\n",
    "I made a ton of screenshots of Spongebob characters. Here, I will make them more homogeneous and add some metadata"
   ]
  },
  {
   "cell_type": "code",
   "execution_count": 12,
   "id": "8ad8faab-6ff3-410a-b441-6acd86489a07",
   "metadata": {},
   "outputs": [],
   "source": [
    "import os\n",
    "from PIL import Image\n",
    "import numpy as np"
   ]
  },
  {
   "cell_type": "markdown",
   "id": "55684368-94cc-436c-8985-5099a8f79c92",
   "metadata": {},
   "source": [
    "## Organize Raw Images"
   ]
  },
  {
   "cell_type": "code",
   "execution_count": 9,
   "id": "fa11c85a-ca11-4cf9-b067-f3d9f0757c30",
   "metadata": {},
   "outputs": [],
   "source": [
    "raw_dir = os.path.join(os.getcwd(),'Raw')\n",
    "for character in ['Spongebob','Patrick']:\n",
    "    # make a list of existing numbers first\n",
    "    character_numbers = []\n",
    "    for file_name in os.listdir(os.path.join(raw_dir,character)):\n",
    "        if file_name[0]!='.' and file_name[-4:]=='.png':\n",
    "            if character in file_name:\n",
    "                number = file_name.split('_')[1].split('.')[0]\n",
    "                character_numbers.append(int(number))\n",
    "    if len(character_numbers)!=0:\n",
    "        counter = max(character_numbers)+1\n",
    "    else:\n",
    "        counter = 0\n",
    "    for file_name in os.listdir(os.path.join(raw_dir,character)):\n",
    "        if file_name[0]!='.' and file_name[-4:]=='.png':\n",
    "            if character not in file_name:\n",
    "                new_name = character+'_'+'{:04d}'.format(counter)+'.png'\n",
    "                os.rename(os.path.join(raw_dir,character,file_name),\n",
    "                          os.path.join(raw_dir,character,new_name))\n",
    "                counter+=1"
   ]
  },
  {
   "cell_type": "markdown",
   "id": "d41d2c6a-932d-4422-b939-06552451b31a",
   "metadata": {},
   "source": [
    "## Resize Raw Images to Processed"
   ]
  },
  {
   "cell_type": "code",
   "execution_count": 18,
   "id": "9c94d031-0805-4f88-aae5-3fda354be743",
   "metadata": {},
   "outputs": [],
   "source": [
    "raw_dir = os.path.join(os.getcwd(),'Raw')\n",
    "processed_dir = os.path.join(os.getcwd(),'Processed')\n",
    "\n",
    "new_shape = (100, 100)\n",
    "\n",
    "counter = 0\n",
    "for character in ['Spongebob','Patrick']:\n",
    "    for file_name in os.listdir(os.path.join(raw_dir,character)):\n",
    "        if file_name[0]!='.' and file_name[-4:]=='.png':\n",
    "            if character in file_name:\n",
    "                img = Image.open(os.path.join(raw_dir,character,file_name))\n",
    "                img_new = img.resize((100,100))\n",
    "                img_new.save(os.path.join(processed_dir,'image_'+'{:04d}'.format(counter)+'.png'))\n",
    "                counter += 1"
   ]
  },
  {
   "cell_type": "code",
   "execution_count": null,
   "id": "28578874-b42e-4d75-ae24-83fa16a23132",
   "metadata": {},
   "outputs": [],
   "source": []
  }
 ],
 "metadata": {
  "kernelspec": {
   "display_name": "cs171",
   "language": "python",
   "name": "cs171"
  },
  "language_info": {
   "codemirror_mode": {
    "name": "ipython",
    "version": 3
   },
   "file_extension": ".py",
   "mimetype": "text/x-python",
   "name": "python",
   "nbconvert_exporter": "python",
   "pygments_lexer": "ipython3",
   "version": "3.12.10"
  }
 },
 "nbformat": 4,
 "nbformat_minor": 5
}
