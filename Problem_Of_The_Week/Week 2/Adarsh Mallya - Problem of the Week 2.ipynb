{
 "cells": [
  {
   "cell_type": "markdown",
   "id": "5edfd277-8f73-4ee7-a000-6a10d3c2541f",
   "metadata": {},
   "source": [
    "# Problem of the Week 2"
   ]
  },
  {
   "cell_type": "markdown",
   "id": "23f44593-daf7-4b70-8b40-2b4c12884893",
   "metadata": {},
   "source": [
    "Name: \n",
    "\n",
    "Student ID: \n",
    "\n",
    "Date: \n",
    "\n",
    "**Motivation**\n",
    "\n",
    "This week's Problem of the Week is focused on revisiting some derivatives from Calculus - key elements when computing the gradients of loss functions that can be used to optimize models.\n",
    "\n",
    "Consider the following model $\\hat{y}$:\n",
    "\n",
    "$$\n",
    "\\hat{y}(x) = a + bx + c\\sin(x)\n",
    "$$\n",
    "\n",
    "where $a$, $b$, and $c$ are parameters used to tune the model to a data set. To optimitize the parameters, we will need to compute the derivative of the loss function of the model relative to each of the parameters. As we saw in Lectures 2-1 and 2-2, the mean square error loss function is defined as\n",
    "\n",
    "$$\n",
    "L = \\frac{1}{N} \\sum_{i=1}^N (y_i - \\hat{y}_i)^2 = \\frac{1}{N} \\sum_{i=1}^N (y_i - (a + bx_i + c\\sin(x_i)))^2\n",
    "$$\n",
    "\n",
    "In this assignment, we will revisit some derivative procedures from Calculus to calculate the dervative of the loss function relative to each of the parameters.\n",
    "\n",
    "**Completing this assignment**\n",
    "\n",
    "To complete this assignment find solutions to each of the derivatives below. When complete, you can do one of the following:\n",
    "1. Print out these pages from the PDF version of this document, write your solutions on them, scan your work into a PDF, and turn it in on Canvas\n",
    "2. Markup your solutions virtually on the PDF version of this document (e.g. using an iPad), save your work into a PDF, and turn it in on Canvas.\n",
    "3. Fill in the markdown cells in the Jupyter Notebook version of this document with LaTeX-styled math, save this notebook as a PDF, and turn it in on Canvas."
   ]
  },
  {
   "cell_type": "markdown",
   "id": "dd59ad35-1320-4c31-87cb-ec7202704606",
   "metadata": {},
   "source": [
    "## Problem 2.1: Derivatives with Constants\n",
    "\n",
    "To begin, consider the following functions which are simple products of a constant and an independent variable:"
   ]
  },
  {
   "cell_type": "markdown",
   "id": "4d779460-8204-4a7b-a559-60be67c59504",
   "metadata": {},
   "source": [
    "$$\n",
    "\\begin{align*}\n",
    "f(x) &= x\\\\\n",
    "g(x) &= 5x\\\\\n",
    "h(x) &= xsin(y)\n",
    "\\end{align*}\n",
    "$$\n",
    "\n",
    "Compute the derivatives of each function with respect to the variable $x$."
   ]
  },
  {
   "cell_type": "markdown",
   "id": "4879b47e-277d-4201-8cd5-53571895ad9a",
   "metadata": {},
   "source": [
    "Solution:\n",
    "\n",
    "$\n",
    "\\dfrac{df}{dx} = 1\n",
    "$\n",
    "\n",
    "$\n",
    "\\dfrac{dg}{dx} = 5\n",
    "$\n",
    "\n",
    "$\n",
    "\\dfrac{dh}{dx} = sin(y)\n",
    "$"
   ]
  },
  {
   "cell_type": "markdown",
   "id": "907fdb91-3bfe-4f2a-aab7-9cb012dabe0d",
   "metadata": {},
   "source": [
    "## Problem 2.2: Derivatives with Sums\n",
    "\n",
    "So far so good - next we'll take a look at some derivatives of several functions added together. Consider the following functions:"
   ]
  },
  {
   "cell_type": "markdown",
   "id": "21b19166-b96a-4993-b0a0-621942acc805",
   "metadata": {},
   "source": [
    "$$\n",
    "\\begin{align*}\n",
    "f(x) &= x + 5x + ysin(x)\\\\\n",
    "g(x) &= \\sum_{i=1}^N ix\n",
    "\\end{align*}\n",
    "$$\n",
    "\n",
    "Compute the derivatives of each function with respect to the variable $x$."
   ]
  },
  {
   "cell_type": "markdown",
   "id": "1d6eef1b-1f45-4b4f-9d4f-90c47a48c4ca",
   "metadata": {},
   "source": [
    "Solution:\n",
    "\n",
    "$\n",
    "\\dfrac{df}{dx} = 6 + ycos(x)\n",
    "$\n",
    "\n",
    "$\n",
    "\\dfrac{dg}{dx} = \\sum_{i=1}^N i\n",
    "$"
   ]
  },
  {
   "cell_type": "markdown",
   "id": "94423606-326c-4766-8069-fa7c886fb1c7",
   "metadata": {},
   "source": [
    "## Problem 2.3: The Power Rule and the Chain Rule\n",
    "\n",
    "Hopefully some of these derivative exercises are brushing off some cobwebs from our Calculus days! Consider the following functions which have powers and composite functions:\n",
    "\n",
    "$$\n",
    "\\begin{align*}\n",
    "f(x) &= x^3\\\\\n",
    "g(x) &= (sin(x))^3\n",
    "\\end{align*}\n",
    "$$\n",
    "\n",
    "Compute the derivatives of each function with respect to the variable $x$."
   ]
  },
  {
   "cell_type": "markdown",
   "id": "f0c92d46-472a-4772-9e7d-7bea4a85adea",
   "metadata": {},
   "source": [
    "Solution:\n",
    "\n",
    "$\n",
    "\\dfrac{df}{dx} = 3x^2\n",
    "$\n",
    "\n",
    "$\n",
    "\\dfrac{dg}{dx} = (3sin(x))^2(cos(x))\n",
    "$"
   ]
  },
  {
   "cell_type": "markdown",
   "id": "d8b79f8e-8ee8-4b48-a1dd-865cbf5e9e8a",
   "metadata": {},
   "source": [
    "## Problem 2.4: Partial Derivatives\n",
    "\n",
    "Ok, we're moving now - what about if a function has more than one independent variable? Well, then we compute derivates with respective to each variable independently. Consider the following functions of two variables:\n",
    "\n",
    "$$\n",
    "\\begin{align*}\n",
    "f(x,y) &= xsin(y)\\\\\n",
    "g(a,b) &= a + bx + c\n",
    "\\end{align*}\n",
    "$$\n",
    "\n",
    "Compute the partial derivatives of each function with respect to the variables $x$ and $y$."
   ]
  },
  {
   "cell_type": "markdown",
   "id": "55276641-3857-4bd7-9d22-5cdf692db3e5",
   "metadata": {},
   "source": [
    "Solution:\n",
    "\n",
    "$\n",
    "\\dfrac{\\partial f}{\\partial x} = sin(y)\n",
    "$\n",
    "\n",
    "$\n",
    "\\dfrac{\\partial f}{\\partial y} = xcos(y)\n",
    "$\n",
    "\n",
    "$\n",
    "\\dfrac{\\partial g}{\\partial a} = 1\n",
    "$\n",
    "\n",
    "$\n",
    "\\dfrac{\\partial g}{\\partial b} = x\n",
    "$"
   ]
  },
  {
   "cell_type": "markdown",
   "id": "f5c45cbb-b1b7-4cf9-8823-fe2f255f434c",
   "metadata": {},
   "source": [
    "## Problem 2.5: Putting it all together\n",
    "\n",
    "Each of the above examples provides a building block necessary to compute the derivate of the loss function $L$ relative to each of the parameters $a$, $b$, ad $c$. \n",
    "\n",
    "$$\n",
    "\\begin{align*}\n",
    "L(a,b,c) &= \\frac{1}{N} \\sum_{i=1}^N (y_i - (a + bx_i + c\\sin(x_i)))^2\n",
    "\\end{align*}\n",
    "$$\n",
    "\n",
    "Compute the partial derivatives of the loss function with respect to the each of the parameters."
   ]
  },
  {
   "cell_type": "markdown",
   "id": "1d4e0842-6b9e-4fca-93f5-5455d88fcd34",
   "metadata": {},
   "source": [
    "Solution:\n",
    "\n",
    "$\n",
    "\\dfrac{\\partial L}{\\partial a} = \\frac{-2}{N} \\sum_{i=1}^N (y_i - (a + bx_i + c\\sin(x_i)))\n",
    "$\n",
    "\n",
    "$\n",
    "\\dfrac{\\partial L}{\\partial b} = \\frac{-2}{N} \\sum_{i=1}^N (y_i - (a + bx_i + c\\sin(x_i)))x_i\n",
    "$\n",
    "\n",
    "$\n",
    "\\dfrac{\\partial L}{\\partial c} = \\frac{-2}{N} \\sum_{i=1}^N (y_i - (a + bx_i + c\\sin(x_i)))(sin(x_i))\n",
    "$"
   ]
  }
 ],
 "metadata": {
  "kernelspec": {
   "display_name": "CS171",
   "language": "python",
   "name": "python3"
  },
  "language_info": {
   "codemirror_mode": {
    "name": "ipython",
    "version": 3
   },
   "file_extension": ".py",
   "mimetype": "text/x-python",
   "name": "python",
   "nbconvert_exporter": "python",
   "pygments_lexer": "ipython3",
   "version": "3.12.9"
  }
 },
 "nbformat": 4,
 "nbformat_minor": 5
}
