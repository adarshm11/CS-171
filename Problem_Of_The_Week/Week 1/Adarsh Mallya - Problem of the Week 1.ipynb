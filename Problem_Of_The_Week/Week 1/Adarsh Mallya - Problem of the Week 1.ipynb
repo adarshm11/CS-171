{
 "cells": [
  {
   "cell_type": "markdown",
   "id": "5edfd277-8f73-4ee7-a000-6a10d3c2541f",
   "metadata": {},
   "source": [
    "# Problem of the Week 1"
   ]
  },
  {
   "cell_type": "markdown",
   "id": "23f44593-daf7-4b70-8b40-2b4c12884893",
   "metadata": {},
   "source": [
    "Name: Adarsh Mallya\n",
    "\n",
    "Student ID: 017086225\n",
    "\n",
    "Date: August 21, 2025\n",
    "\n",
    "**Motivation**\n",
    "\n",
    "This week's Problem of the Week is designed to get us organized and to install the Python packages and tools we will use in this course. Run the following cells (after updating the first one) to showcase your directories, your conda environment, and your installed packages.\n",
    "\n",
    "After your cells run successfully, generate a PDF of this notebook and turn both your PDF and your notebook in on Canvas."
   ]
  },
  {
   "cell_type": "markdown",
   "id": "6126cce4-2c6e-475b-b87b-d7fcf9bd7c1b",
   "metadata": {},
   "source": [
    "## Problem 1.1: Course file structure\n",
    "\n",
    "I have created a file structure for this course as follows:"
   ]
  },
  {
   "cell_type": "code",
   "execution_count": 19,
   "id": "50b062a0-c309-47b7-aab3-f3cb90fe3c12",
   "metadata": {},
   "outputs": [
    {
     "name": "stdout",
     "output_type": "stream",
     "text": [
      "My course directory is: \n",
      "/Users/adarsh/Desktop/CS_171/\n",
      " \n",
      "The subdirectories in my course directory are: \n",
      " - Lecture\n",
      " - Project\n",
      " - Problem_Of_The_Week\n",
      " - Homework\n",
      " \n",
      "Currently, I am working in the following directory: \n",
      "/Users/adarsh/Desktop/CS_171\n"
     ]
    }
   ],
   "source": [
    "import os\n",
    "\n",
    "course_directory = '/Users/adarsh/Desktop/CS_171/'\n",
    "                  # ^ Enter the location of your directory here\n",
    "                  #   This should be a folder dedicated to CS 171\n",
    "print('My course directory is: ')\n",
    "print(course_directory)\n",
    "print(' ')\n",
    "\n",
    "print('The subdirectories in my course directory are: ') # should include Homework, Lecture, \n",
    "                                                         # Project, Problem of the Week\n",
    "for file_name in os.listdir(course_directory):\n",
    "    d = os.path.join(course_directory, file_name)\n",
    "    if os.path.isdir(d): \n",
    "        print(' - '+file_name)\n",
    "print(' ')\n",
    "\n",
    "print('Currently, I am working in the following directory: ')\n",
    "print(os.getcwd())"
   ]
  },
  {
   "cell_type": "markdown",
   "id": "907fdb91-3bfe-4f2a-aab7-9cb012dabe0d",
   "metadata": {},
   "source": [
    "## Problem 1.2: `conda` Environment\n",
    "\n",
    "For this course, I created a `conda` environment called `cs171`. You can observe my environment as follows:"
   ]
  },
  {
   "cell_type": "code",
   "execution_count": 20,
   "id": "a01dc463-2789-446b-b173-d07fa789134e",
   "metadata": {},
   "outputs": [
    {
     "name": "stdout",
     "output_type": "stream",
     "text": [
      "My current Python environment is: /Users/adarsh/.pyenv/versions/3.12.9/envs/CS171\n"
     ]
    }
   ],
   "source": [
    "print('My current Python environment is: '+os.environ['VIRTUAL_ENV'])\n",
    "# I didn't use conda as my package manager"
   ]
  },
  {
   "cell_type": "markdown",
   "id": "1d6eef1b-1f45-4b4f-9d4f-90c47a48c4ca",
   "metadata": {},
   "source": [
    "This conda environment was install with version 3.12, which we can verify here:"
   ]
  },
  {
   "cell_type": "code",
   "execution_count": 21,
   "id": "39d0aeef-4423-44cd-bfd5-9aedc680757b",
   "metadata": {},
   "outputs": [
    {
     "name": "stdout",
     "output_type": "stream",
     "text": [
      "My python version is: 3.12\n"
     ]
    }
   ],
   "source": [
    "import sys\n",
    "version_info = sys.version_info\n",
    "print('My python version is: '+str(version_info[0])+'.'+str(version_info[1]))"
   ]
  },
  {
   "cell_type": "markdown",
   "id": "94423606-326c-4766-8069-fa7c886fb1c7",
   "metadata": {},
   "source": [
    "## Problem 1.3: Package Installation"
   ]
  },
  {
   "cell_type": "markdown",
   "id": "1d4e0842-6b9e-4fca-93f5-5455d88fcd34",
   "metadata": {},
   "source": [
    "I have installed all of the pertinent packages we will use in this class in my conda environment. I can verify by importing the following packages and ensuring there are no errors:"
   ]
  },
  {
   "cell_type": "code",
   "execution_count": 22,
   "id": "79526223-e161-44f6-8fdc-2caf9b2221e6",
   "metadata": {},
   "outputs": [],
   "source": [
    "import numpy\n",
    "import matplotlib\n",
    "import torch\n",
    "import torchvision\n",
    "import pandas\n",
    "import netCDF4\n",
    "import scipy\n",
    "import sklearn"
   ]
  },
  {
   "cell_type": "markdown",
   "id": "654b67da-b5d3-4cdd-b252-ee2844591b0c",
   "metadata": {},
   "source": [
    "In short, I am organized and set to dive into Machine Learning!"
   ]
  }
 ],
 "metadata": {
  "kernelspec": {
   "display_name": "CS171",
   "language": "python",
   "name": "python3"
  },
  "language_info": {
   "codemirror_mode": {
    "name": "ipython",
    "version": 3
   },
   "file_extension": ".py",
   "mimetype": "text/x-python",
   "name": "python",
   "nbconvert_exporter": "python",
   "pygments_lexer": "ipython3",
   "version": "3.12.9"
  }
 },
 "nbformat": 4,
 "nbformat_minor": 5
}
