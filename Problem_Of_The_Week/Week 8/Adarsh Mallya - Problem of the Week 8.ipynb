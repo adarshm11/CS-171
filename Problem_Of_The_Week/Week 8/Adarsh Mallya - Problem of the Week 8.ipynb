{
 "cells": [
  {
   "cell_type": "markdown",
   "id": "5edfd277-8f73-4ee7-a000-6a10d3c2541f",
   "metadata": {},
   "source": [
    "# Problem of the Week 8"
   ]
  },
  {
   "cell_type": "markdown",
   "id": "23f44593-daf7-4b70-8b40-2b4c12884893",
   "metadata": {},
   "source": [
    "Name: Adarsh Mallya\n",
    "\n",
    "Student ID: 017086225\n",
    "\n",
    "Date: 10/11/2025\n",
    "\n",
    "**Motivation**\n",
    "\n",
    "This week's Problem of the Week is focused on comparing and contrasting the problems we addressed with our multi-layer perceptrons and our convolutional neutral networks.\n",
    "\n",
    "**Completing this assignment**\n",
    "\n",
    "Fill in the cell as indicated below. When you are happy with you response, produce a clean rendition of your notebook. Then, create a PDF of your notebook and upload both documents (PDF and ipynb file) to Canvas."
   ]
  },
  {
   "cell_type": "markdown",
   "id": "f5c45cbb-b1b7-4cf9-8823-fe2f255f434c",
   "metadata": {},
   "source": [
    "## Problem 8.1 - Model Similarities\n",
    "\n",
    "Write 3-5 sentences explaining how the purpose of each model and the architecture of the neural networks are similar in the multilayer perceptron and CNN examples examined in class. Your response should pertain to the specific models we worked with in class, not generic statements about perceptrons and CNNs."
   ]
  },
  {
   "cell_type": "markdown",
   "id": "fce6b75e-377f-4c78-9bff-0cd18969a1b8",
   "metadata": {},
   "source": [
    "The architecture of multilayer perceptrons and CNNs are very similar. They both include multiple layers to process the pixels of the images as we get closer and closer to a classification guess. For example, the MLP used to classify MNIST number images used two linear layers, with both layers matched to a sigmoid activation function; similarly, the CNN model used to classify characters from SpongeBob included linear layers and activation functions. "
   ]
  },
  {
   "cell_type": "markdown",
   "id": "52e6cb95-5a81-4c28-8398-dfef7b88fc2d",
   "metadata": {},
   "source": [
    "## Problem 8.2 - Model Differences\n",
    "\n",
    "Write 3-5 sentences explaining how the multilayer perceptron and CNN examples examined in class differ. Place specific emphasis on what makes the CNN approach more ideal for this application than a multi-layer perceptron. Your response should pertain to the specific models we worked with in class, not generic statements about perceptrons and CNNs."
   ]
  },
  {
   "cell_type": "markdown",
   "id": "212736c2-10ee-4cd2-8d58-0ab3c1314226",
   "metadata": {},
   "source": [
    "The key difference between multilayer perceptrons and CNNs are the fact that CNNs use convolution to both optimize the model's efficiency and its performance. MLPs analyze each pixel individually, while CNNs use a sliding window to gather more insights about the image's features. This was extremely important in the classification of SpongeBob characters, where the angle and lighting of the images was confusing the MLP. The CNN performed much better (although not perfect) in gathering features and predicting the classes of the SpongeBob characters."
   ]
  }
 ],
 "metadata": {
  "kernelspec": {
   "display_name": "cs171",
   "language": "python",
   "name": "cs171"
  },
  "language_info": {
   "codemirror_mode": {
    "name": "ipython",
    "version": 3
   },
   "file_extension": ".py",
   "mimetype": "text/x-python",
   "name": "python",
   "nbconvert_exporter": "python",
   "pygments_lexer": "ipython3",
   "version": "3.12.10"
  }
 },
 "nbformat": 4,
 "nbformat_minor": 5
}
