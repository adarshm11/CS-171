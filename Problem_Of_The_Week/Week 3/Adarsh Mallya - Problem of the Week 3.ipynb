{
 "cells": [
  {
   "cell_type": "markdown",
   "id": "5edfd277-8f73-4ee7-a000-6a10d3c2541f",
   "metadata": {},
   "source": [
    "# Problem of the Week 3"
   ]
  },
  {
   "cell_type": "markdown",
   "id": "23f44593-daf7-4b70-8b40-2b4c12884893",
   "metadata": {},
   "source": [
    "Name: Adarsh Mallya\n",
    "\n",
    "Student ID: 017086225\n",
    "\n",
    "Date: 09/07/2025\n",
    "\n",
    "**Motivation**\n",
    "\n",
    "This week's Problem of the Week is provides a reflection on the models we looked at this week. Here, we will compare and contrast the first linear regression model from Lecture 3-1 with the perceptron model from Lecture 3-2.\n",
    "\n",
    "**Completing this assignment**\n",
    "\n",
    "To complete this assignment, fill in the markdown cells with your responses. When complete, upload this notebook as a Jupyter notebook AND a PDF to Canvas."
   ]
  },
  {
   "cell_type": "markdown",
   "id": "dd59ad35-1320-4c31-87cb-ec7202704606",
   "metadata": {},
   "source": [
    "## Problem 3.1: Model Purpose\n",
    "\n",
    "To begin, let's remind ourselves of the purpose for each of our models. Write one sentence outlining the question that each model was designed to answer.  "
   ]
  },
  {
   "cell_type": "markdown",
   "id": "4879b47e-277d-4201-8cd5-53571895ad9a",
   "metadata": {},
   "source": [
    "Linear Regression Model: Can we write a linear regression model that can predict the carbon dioxide concentrations at Mauna Loa based on two variables, the year and the season of the year?\n",
    "\n",
    "\n",
    "Perceptron Model: Can we write a linear classification model that can predict the sex of a sea lion, given the length of the sea lion's body and its skull?\n",
    "\n",
    "\n"
   ]
  },
  {
   "cell_type": "markdown",
   "id": "907fdb91-3bfe-4f2a-aab7-9cb012dabe0d",
   "metadata": {},
   "source": [
    "## Problem 3.2: Model Parameters\n",
    "\n",
    "Next, consider how many learnable parameters are used to construct the models. For each model, list the names of the variables that are used to optimize the model to the data. Then, for each model, write one to two sentences describing what the parameters mean in the context of the model."
   ]
  },
  {
   "cell_type": "markdown",
   "id": "1d6eef1b-1f45-4b4f-9d4f-90c47a48c4ca",
   "metadata": {},
   "source": [
    "Linear Regression Model:\n",
    "- Variables: b, w_1, w_2\n",
    "- These variables signify the bias and the weights for each independent variable. The bias serves as a \"starting point\" for the linear model, and the weights determine how important each feature is to determining the final result.\n",
    "\n",
    "\n",
    "Perceptron Model:\n",
    "- Variables: b, w_1, w_2\n",
    "- These variables signify the bias and the weights for each independent variable. The bias serves as a \"starting point\" for the linear model, and the weights determine how important each feature is to determining the final result.\n"
   ]
  },
  {
   "cell_type": "markdown",
   "id": "94423606-326c-4766-8069-fa7c886fb1c7",
   "metadata": {},
   "source": [
    "## Problem 3.3: Model Features\n",
    "\n",
    "Features are the independent pieces of information that are provided to a model. For each of the models shown this week, list the features used for the models in one or sentences for each. (Hints: For the perceptron model, there are 2 features. For the linear regression model, there can be 1 or 2 features, depending on how they are counted.)"
   ]
  },
  {
   "cell_type": "markdown",
   "id": "f0c92d46-472a-4772-9e7d-7bea4a85adea",
   "metadata": {},
   "source": [
    "Linear Regression Model:\n",
    "- x = the years since 2010. This can also be split up into `x_1` and `x_2` to provide the distinction between the years measurement and the season measurement.\n",
    "\n",
    "\n",
    "Perceptron Model:\n",
    "- x_1 = the length of the sea lion's body (cm)\n",
    "- x_2 = the length of the sea lion's skull (mm)\n",
    "\n"
   ]
  },
  {
   "cell_type": "markdown",
   "id": "d8b79f8e-8ee8-4b48-a1dd-865cbf5e9e8a",
   "metadata": {},
   "source": [
    "## Problem 3.4: Model Target Data\n",
    "\n",
    "Target data is the output that a model is trained to predict. For each model, identify/describe the target variable in one sentence."
   ]
  },
  {
   "cell_type": "markdown",
   "id": "55276641-3857-4bd7-9d22-5cdf692db3e5",
   "metadata": {},
   "source": [
    "Linear Regression Model: The output of this model is the predicted CO2 concentration in ppm\n",
    "\n",
    "\n",
    "Perceptron Model: The output of this model is a binary classification, signifying if the sea lion is a male (0) or a female (1).\n",
    "\n",
    "\n"
   ]
  },
  {
   "cell_type": "markdown",
   "id": "f5c45cbb-b1b7-4cf9-8823-fe2f255f434c",
   "metadata": {},
   "source": [
    "## Problem 3.5:  Model Cost Function\n",
    "\n",
    "The cost function defined for a given model is an essential ingredient to fit the model to data. For each model, list the name and the formula for the cost function used to optimize the model."
   ]
  },
  {
   "cell_type": "markdown",
   "id": "a4140778-f170-4d5e-bcdf-659869081473",
   "metadata": {},
   "source": [
    "Linear Regression Model: The cost function for this model is the mean square error loss function, defined by the formula \n",
    "\n",
    "$$\n",
    "L =\\frac{1}{N} \\sum_{i=1}^N (y_i - \\hat{y}_i)^2\n",
    "$$\n",
    "\n",
    "\n",
    "Perceptron Model: This model uses the same formula for mean square error, but only calculates this value for data points that were misclassified. \n",
    "\n",
    "\n"
   ]
  }
 ],
 "metadata": {
  "kernelspec": {
   "display_name": "cs171",
   "language": "python",
   "name": "cs171"
  },
  "language_info": {
   "codemirror_mode": {
    "name": "ipython",
    "version": 3
   },
   "file_extension": ".py",
   "mimetype": "text/x-python",
   "name": "python",
   "nbconvert_exporter": "python",
   "pygments_lexer": "ipython3",
   "version": "3.12.10"
  }
 },
 "nbformat": 4,
 "nbformat_minor": 5
}
