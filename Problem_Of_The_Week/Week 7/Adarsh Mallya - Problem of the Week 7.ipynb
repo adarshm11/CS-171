{
 "cells": [
  {
   "cell_type": "markdown",
   "id": "5edfd277-8f73-4ee7-a000-6a10d3c2541f",
   "metadata": {},
   "source": [
    "# Problem of the Week 7"
   ]
  },
  {
   "cell_type": "markdown",
   "id": "23f44593-daf7-4b70-8b40-2b4c12884893",
   "metadata": {},
   "source": [
    "Name: Adarsh Mallya\n",
    "\n",
    "Student ID: 017086225\n",
    "\n",
    "Date: 10/05/2025\n",
    "\n",
    "**Motivation**\n",
    "\n",
    "This week's Problem of the Week is focused on comparing and contrasting the single- and multi-layer perceptrons.\n",
    "\n",
    "**Completing this assignment**\n",
    "\n",
    "Fill in the coding and markdown cells as indicated below. When you are happy with you responses, restart the kernel and run all cells to produce a clean rendition of your notebook. Then, create a PDF of your notebook and upload both documents (PDF and ipynb file) to Canvas."
   ]
  },
  {
   "cell_type": "code",
   "execution_count": 3,
   "id": "e595157b-13cb-4fcb-a3e3-fd0a47645e80",
   "metadata": {},
   "outputs": [
    {
     "name": "stdout",
     "output_type": "stream",
     "text": [
      "Using device: mps\n"
     ]
    }
   ],
   "source": [
    "import os\n",
    "import numpy as np\n",
    "import matplotlib.pyplot as plt\n",
    "import pandas as pd\n",
    "import struct\n",
    "\n",
    "# modules from PyTorch\n",
    "import torch\n",
    "import torch.nn as nn\n",
    "import torch.nn.functional as F\n",
    "from torch.utils.data import DataLoader, TensorDataset\n",
    "\n",
    "if torch.cuda.is_available():\n",
    "    device_name = \"cuda\"\n",
    "elif torch.backends.mps.is_available():\n",
    "    device_name = \"mps\"\n",
    "else:\n",
    "    device_name = \"cpu\"\n",
    "print('Using device: '+device_name)\n",
    "device = torch.device(device_name)"
   ]
  },
  {
   "cell_type": "markdown",
   "id": "f5c45cbb-b1b7-4cf9-8823-fe2f255f434c",
   "metadata": {},
   "source": [
    "## Problem 7.1\n",
    "\n",
    "In class, we created two classes - one for the single layer perceptron and one for the multi layer perceptron. Copy those classes over here."
   ]
  },
  {
   "cell_type": "code",
   "execution_count": 4,
   "id": "3c49bac8-db6d-4176-84c9-b9dbc7ef77d1",
   "metadata": {},
   "outputs": [],
   "source": [
    "# copy the single layer perceptron code here\n",
    "class SLP(nn.Module):\n",
    "\n",
    "    # define an init function with a Linear layer\n",
    "    def __init__(self, in_dim=784, out_dim=10):\n",
    "        super().__init__()\n",
    "        self.fc = nn.Linear(in_dim, out_dim)\n",
    "\n",
    "    # implement the forward method\n",
    "    def forward(self, x):\n",
    "        out = torch.sigmoid(self.fc(x))\n",
    "        return out"
   ]
  },
  {
   "cell_type": "code",
   "execution_count": 5,
   "id": "ad973628-0e61-4914-8179-fd5c9b515ec7",
   "metadata": {},
   "outputs": [],
   "source": [
    "# copy the multilayer perceptron code here\n",
    "class MLP(nn.Module):\n",
    "\n",
    "    def __init__(self, in_dim=784, hidden_dim=50, out_dim=10):\n",
    "        super().__init__()\n",
    "        self.fc1 = nn.Linear(in_dim, hidden_dim)\n",
    "        self.fc2 = nn.Linear(hidden_dim, out_dim)\n",
    "\n",
    "    def forward(self, x):\n",
    "        h = torch.sigmoid(self.fc1(x))\n",
    "        out = torch.sigmoid(self.fc2(h))\n",
    "        return out"
   ]
  },
  {
   "cell_type": "markdown",
   "id": "52e6cb95-5a81-4c28-8398-dfef7b88fc2d",
   "metadata": {},
   "source": [
    "## Problem 7.2\n",
    "\n",
    "In class, we introduced the MNIST hand-written image database. Read in the data here and prepare it for use in your Perceptron code."
   ]
  },
  {
   "cell_type": "code",
   "execution_count": 6,
   "id": "4c56aaad-a529-4450-af40-a7d54a0009ea",
   "metadata": {},
   "outputs": [],
   "source": [
    "# load in the MNIST hand-written image database\n",
    "def read_mnist_images(data_directory, subset='train'):\n",
    "    if subset=='train':\n",
    "        prefix = 'train-'\n",
    "    else:\n",
    "        prefix = 't10k-'\n",
    "        \n",
    "    with open(os.path.join('MNIST',prefix+'images.idx3-ubyte'), 'rb') as f:\n",
    "        # unpack header\n",
    "        _, num_images, num_rows, num_cols = struct.unpack('>IIII', f.read(16))\n",
    "        \n",
    "        # read image data\n",
    "        image_data = f.read(num_images * num_rows * num_cols)\n",
    "        images = np.frombuffer(image_data, dtype=np.uint8)\n",
    "        images = images.reshape(num_images, num_rows, num_cols)\n",
    "\n",
    "    with open(os.path.join('MNIST',prefix+'labels.idx1-ubyte'), 'rb') as f:\n",
    "        # unpack header\n",
    "        _, num_labels = struct.unpack('>II', f.read(8))\n",
    "\n",
    "        # read label data\n",
    "        labels = np.frombuffer(f.read(), dtype=np.uint8)\n",
    "\n",
    "        \n",
    "    return images, labels"
   ]
  },
  {
   "cell_type": "code",
   "execution_count": 7,
   "id": "9648eeba",
   "metadata": {},
   "outputs": [],
   "source": [
    "# load in the training and test images\n",
    "train_images, train_labels = read_mnist_images('MNIST','train')\n",
    "test_images, test_labels = read_mnist_images('MNIST','test')\n",
    "\n",
    "# reshape as before\n",
    "X_train = train_images.reshape(-1, 784) / 255.0\n",
    "X_test = test_images.reshape(-1, 784) / 255.0\n",
    "y_train = train_labels\n",
    "y_test = test_labels\n",
    "\n",
    "# create PyTorch tensor versions of the MNIST data\n",
    "X_train_tensor = torch.tensor(X_train).float()\n",
    "y_train_tensor = torch.tensor(y_train).float()\n",
    "X_test_tensor = torch.tensor(X_test).float()\n",
    "y_test_tensor = torch.tensor(y_test).float()\n",
    "\n",
    "# create one-hot encoded training label tensors\n",
    "y_train_onehot = F.one_hot(y_train_tensor.to(torch.int64), num_classes=10).float()\n",
    "y_test_onehot = F.one_hot(y_test_tensor.to(torch.int64), num_classes=10).float()\n",
    "\n",
    "# make a TensorDataset object for the training data\n",
    "ds_train = TensorDataset(X_train_tensor, y_train_onehot)\n",
    "\n",
    "# make a loader object for the training data\n",
    "train_loader = DataLoader(ds_train, batch_size=64, shuffle=True)\n",
    "\n",
    "# make a TensorDataset object for the test data\n",
    "ds_test = TensorDataset(X_test_tensor, y_test_onehot)\n",
    "\n",
    "# make a loader object for the test data\n",
    "test_loader = DataLoader(ds_test, batch_size=64, shuffle=False)"
   ]
  },
  {
   "cell_type": "markdown",
   "id": "05ba01f2-c676-4810-bea1-d4ce69e8b73a",
   "metadata": {},
   "source": [
    "## Problem 7.3\n",
    "\n",
    "Generate models for each of the perceptrons, and train each model with an equivalent learning rate and number of iterations."
   ]
  },
  {
   "cell_type": "code",
   "execution_count": 13,
   "id": "901c72f1-334a-4b25-8a8e-d493cfe016d4",
   "metadata": {},
   "outputs": [
    {
     "name": "stdout",
     "output_type": "stream",
     "text": [
      "epoch 5: loss=0.0319, acc=0.870\n",
      "epoch 10: loss=0.0259, acc=0.886\n",
      "epoch 15: loss=0.0234, acc=0.895\n",
      "epoch 20: loss=0.0219, acc=0.901\n",
      "epoch 25: loss=0.0208, acc=0.903\n",
      "epoch 30: loss=0.0200, acc=0.907\n",
      "epoch 35: loss=0.0194, acc=0.909\n",
      "epoch 40: loss=0.0189, acc=0.911\n",
      "epoch 45: loss=0.0184, acc=0.913\n",
      "epoch 50: loss=0.0180, acc=0.915\n"
     ]
    }
   ],
   "source": [
    "# create an slp object and train it\n",
    "slp = SLP().to(device)\n",
    "\n",
    "criterion = nn.MSELoss()\n",
    "optimizer = torch.optim.SGD(slp.parameters(), lr=0.5)\n",
    "slp_train_losses = []\n",
    "slp_train_accs = []\n",
    "slp_test_losses = []\n",
    "slp_test_accs = []\n",
    "\n",
    "# loop through each epoch\n",
    "for epoch in range(50):\n",
    "\n",
    "    #- Testing Block --------------------------------\n",
    "    slp.train()\n",
    "    total_loss, correct, total = 0, 0, 0\n",
    "\n",
    "    # loop through mini-batches in the data loader\n",
    "    for x, y in test_loader:\n",
    "        x, y = x.to(device), y.to(device)\n",
    "\n",
    "        # forward\n",
    "        p = slp(x)\n",
    "        \n",
    "        # backward\n",
    "        loss = criterion(p, y)\n",
    "        optimizer.zero_grad()\n",
    "        loss.backward()\n",
    "        optimizer.step()\n",
    "\n",
    "        # compute the total loss\n",
    "        total_loss += loss.item() * x.size(0)\n",
    "\n",
    "        # predictions (argmax across 10 classes)\n",
    "        pred = p.argmax(dim=1)\n",
    "        true = y.argmax(dim=1)\n",
    "        correct += (pred == true).sum().item() \n",
    "        total += x.size(0)\n",
    "\n",
    "    train_loss = total_loss/total\n",
    "    train_acc = correct/total\n",
    "    slp_train_losses.append(train_loss)\n",
    "    slp_train_accs.append(train_acc)\n",
    "\n",
    "    if (epoch + 1) % 5 == 0:\n",
    "        print(f\"epoch {epoch+1}: loss={total_loss/total:.4f}, acc={correct/total:.3f}\")\n",
    "\n",
    "    # ---- Evaluation (Testing/Validation) ----\n",
    "    slp.eval()\n",
    "    total_loss, correct, total = 0, 0, 0\n",
    "\n",
    "    with torch.no_grad():\n",
    "        for x, y in test_loader:\n",
    "            x, y = x.to(device), y.to(device)\n",
    "\n",
    "            p = slp(x)\n",
    "            loss = criterion(p, y)\n",
    "\n",
    "            total_loss += loss.item() * x.size(0)\n",
    "\n",
    "            pred = p.argmax(dim=1)\n",
    "            true = y.argmax(dim=1)\n",
    "            correct += (pred == true).sum().item() \n",
    "            total += x.size(0)\n",
    "\n",
    "    test_loss = total_loss/total\n",
    "    test_acc = correct/total\n",
    "    slp_test_losses.append(test_loss)\n",
    "    slp_test_accs.append(test_acc)"
   ]
  },
  {
   "cell_type": "code",
   "execution_count": 14,
   "id": "85b75f04-617c-4f57-9f42-9f8ada6935e1",
   "metadata": {},
   "outputs": [
    {
     "name": "stdout",
     "output_type": "stream",
     "text": [
      "epoch 5: loss=0.0306, acc=0.864\n",
      "epoch 10: loss=0.0195, acc=0.899\n",
      "epoch 15: loss=0.0163, acc=0.911\n",
      "epoch 20: loss=0.0146, acc=0.919\n",
      "epoch 25: loss=0.0135, acc=0.925\n",
      "epoch 30: loss=0.0126, acc=0.930\n",
      "epoch 35: loss=0.0119, acc=0.933\n",
      "epoch 40: loss=0.0113, acc=0.937\n",
      "epoch 45: loss=0.0108, acc=0.940\n",
      "epoch 50: loss=0.0104, acc=0.943\n"
     ]
    }
   ],
   "source": [
    "# create an mlp object and train it\n",
    "mlp = MLP().to(device)\n",
    "\n",
    "criterion = nn.MSELoss()\n",
    "optimizer = torch.optim.SGD(mlp.parameters(), lr=0.5)\n",
    "\n",
    "mlp_train_losses = []\n",
    "mlp_train_accs = []\n",
    "mlp_test_losses = []\n",
    "mlp_test_accs = []\n",
    "\n",
    "# loop through each epoch\n",
    "for epoch in range(50):\n",
    "\n",
    "    #- Testing Block --------------------------------\n",
    "    mlp.train()\n",
    "    total_loss, correct, total = 0, 0, 0\n",
    "\n",
    "    # loop through mini-batches in the data loader\n",
    "    for x, y in train_loader:\n",
    "        x, y = x.to(device), y.to(device)\n",
    "\n",
    "        # forward\n",
    "        p = mlp(x)\n",
    "        \n",
    "        # backward\n",
    "        loss = criterion(p, y)\n",
    "        optimizer.zero_grad()\n",
    "        loss.backward()\n",
    "        optimizer.step()\n",
    "\n",
    "        # compute the total loss\n",
    "        total_loss += loss.item() * x.size(0)\n",
    "        # predictions (argmax across 10 classes)\n",
    "        pred = p.argmax(dim=1)\n",
    "        true = y.argmax(dim=1)\n",
    "        correct += (pred == true).sum().item() \n",
    "        total += x.size(0)\n",
    "        \n",
    "    train_loss = total_loss/total\n",
    "    train_acc = correct/total\n",
    "    mlp_train_losses.append(train_loss)\n",
    "    mlp_train_accs.append(train_acc)\n",
    "    if (epoch + 1) % 5 == 0:\n",
    "        print(f\"epoch {epoch+1}: loss={total_loss/total:.4f}, acc={correct/total:.3f}\")\n",
    "    # ---- Evaluation (Testing/Validation) ----\n",
    "    mlp.eval()\n",
    "    total_loss, correct, total = 0, 0, 0\n",
    "    with torch.no_grad():\n",
    "        for x, y in test_loader:\n",
    "            x, y = x.to(device), y.to(device)\n",
    "            p = mlp(x)\n",
    "            loss = criterion(p, y)\n",
    "            total_loss += loss.item() * x.size(0)\n",
    "            pred = p.argmax(dim=1)\n",
    "            true = y.argmax(dim=1)\n",
    "            correct += (pred == true).sum().item() \n",
    "            total += x.size(0)\n",
    "    test_loss = total_loss/total\n",
    "    test_acc = correct/total\n",
    "    mlp_test_losses.append(test_loss)\n",
    "    mlp_test_accs.append(test_acc)"
   ]
  },
  {
   "cell_type": "markdown",
   "id": "a5402456-f400-427c-aab5-dd7681f2ff32",
   "metadata": {},
   "source": [
    "## Problem 7.4\n",
    "\n",
    "Generate two plots to compare and contrast the losses and accuracies of the perceptrons. The left plot should show two lines - one for the test losses of the single layer perceptron (blue) and one for the multi layer perceptron (orange). The right plot should be identical, but it should show the accuracies. Be sure to add a legend to your plot and label your axes."
   ]
  },
  {
   "cell_type": "code",
   "execution_count": 15,
   "id": "ea65d5e9-62a7-40fb-beb8-caf07ba39a84",
   "metadata": {},
   "outputs": [
    {
     "data": {
      "image/png": "[encoded data removed]",
      "text/plain": [
       "<Figure size 1000x500 with 2 Axes>"
      ]
     },
     "metadata": {},
     "output_type": "display_data"
    }
   ],
   "source": [
    "# create your plots here\n",
    "plt.figure(figsize=(10,5))\n",
    "\n",
    "plt.subplot(1,2,1)\n",
    "plt.plot(mlp_test_losses,label='MLP')\n",
    "plt.plot(slp_test_losses,label='SLP')\n",
    "plt.ylabel('Loss')\n",
    "plt.xlabel('Iterations')\n",
    "plt.legend()\n",
    "\n",
    "plt.subplot(1,2,2)\n",
    "plt.plot(mlp_test_accs,label='MLP')\n",
    "plt.plot(slp_test_accs,label='SLP')\n",
    "plt.legend()\n",
    "plt.ylabel('Accuracy')\n",
    "plt.ylim([0,1])\n",
    "plt.xlabel('Iterations')\n",
    "plt.show()"
   ]
  },
  {
   "cell_type": "markdown",
   "id": "3ea76c43-89bd-49dd-bdde-d7e51696f121",
   "metadata": {},
   "source": [
    "## Problem 7.5\n",
    "\n",
    "Based on the plot you've made above, answer the following questions:\n",
    "1. What evidence do you see in yout plots to convince you that your model has converged?\n",
    "2. Which model converged quicker?\n",
    "3. Which model is more accurate? Explain why this model is more accurate (3 sentences max)."
   ]
  },
  {
   "cell_type": "markdown",
   "id": "a7b055b0-03fa-4330-b7f9-0496cc83d5a2",
   "metadata": {},
   "source": [
    "1. The plots both show a convergence of the loss towards zero and a convergence of the accuracies towards some static value, which means that the models have converged.\n",
    "2. The SLP model converged quicker, as it plateaued at less iterations than the MLP did.\n",
    "3. The MLP model is more accurate, as it was able to minimize the loss further than the SLP did."
   ]
  }
 ],
 "metadata": {
  "kernelspec": {
   "display_name": "CS171",
   "language": "python",
   "name": "python3"
  },
  "language_info": {
   "codemirror_mode": {
    "name": "ipython",
    "version": 3
   },
   "file_extension": ".py",
   "mimetype": "text/x-python",
   "name": "python",
   "nbconvert_exporter": "python",
   "pygments_lexer": "ipython3",
   "version": "3.12.9"
  }
 },
 "nbformat": 4,
 "nbformat_minor": 5
}
